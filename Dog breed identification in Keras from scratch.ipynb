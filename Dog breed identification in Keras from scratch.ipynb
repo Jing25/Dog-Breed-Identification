{
 "cells": [
  {
   "cell_type": "code",
   "execution_count": 1,
   "metadata": {},
   "outputs": [
    {
     "name": "stderr",
     "output_type": "stream",
     "text": [
      "Using TensorFlow backend.\n",
      "//anaconda/envs/py36/lib/python3.6/importlib/_bootstrap.py:205: RuntimeWarning: compiletime version 3.5 of module 'tensorflow.python.framework.fast_tensor_util' does not match runtime version 3.6\n",
      "  return f(*args, **kwds)\n"
     ]
    }
   ],
   "source": [
    "import os, cv2, shutil,pickle\n",
    "import numpy as np\n",
    "import matplotlib.pyplot as plt\n",
    "from sklearn.model_selection import train_test_split, StratifiedShuffleSplit\n",
    "from sklearn.preprocessing import OneHotEncoder, LabelEncoder\n",
    "from keras import applications\n",
    "from keras import backend as K\n",
    "from keras.utils import to_categorical\n",
    "from keras.preprocessing.image import ImageDataGenerator\n",
    "from keras.models import Sequential\n",
    "from keras.layers import Conv2D, MaxPooling2D\n",
    "from keras.layers import Activation, Dropout, Flatten, Dense"
   ]
  },
  {
   "cell_type": "code",
   "execution_count": 9,
   "metadata": {},
   "outputs": [],
   "source": [
    "data_dir = '../dog_photos/'\n",
    "directory = '../'\n",
    "\n",
    "contents = os.listdir(data_dir)\n",
    "classes = [each for each in contents if os.path.isdir(data_dir + each)]\n",
    "\n",
    "file_paths = []\n",
    "labels = []\n",
    "\n",
    "for each in classes:\n",
    "        class_path = data_dir + each\n",
    "        files = os.listdir(class_path)\n",
    "\n",
    "        for i, file in enumerate(files):\n",
    "                path = os.path.join(class_path, file)\n",
    "                target = class_path +'/' + each + str(i) + '.jpg'\n",
    "                os.rename(path, target)\n",
    "        \n",
    "        files = os.listdir(class_path)\n",
    "        for file in files:\n",
    "                file_paths.append(class_path +'/'+file)\n",
    "                labels.append(each)"
   ]
  },
  {
   "cell_type": "code",
   "execution_count": 12,
   "metadata": {},
   "outputs": [
    {
     "name": "stdout",
     "output_type": "stream",
     "text": [
      "Train 8177\n",
      "Validation 2045\n",
      "Data converted into train, test and validation\n"
     ]
    }
   ],
   "source": [
    "ss = StratifiedShuffleSplit(n_splits=1, test_size=0.2)\n",
    "train_idx, val_idx = next(ss.split(file_paths, labels))\n",
    "\n",
    "print('Train',len(train_idx))\n",
    "print('Validation',len(val_idx))\n",
    "\n",
    "train_y = []\n",
    "for i in train_idx:\n",
    "        directory_t = '../data/train/' + labels[i] + '/'\n",
    "        if not os.path.exists(directory_t):\n",
    "            os.makedirs(directory_t)\n",
    "        shutil.copy(file_paths[i], directory_t)\n",
    "        train_y.append(labels[i])\n",
    "\n",
    "val_y = []\n",
    "for j in val_idx:\n",
    "        directory_t = '../data/validation/' + labels[j] + '/'\n",
    "        if not os.path.exists(directory_t):\n",
    "            os.makedirs(directory_t)\n",
    "        shutil.copy(file_paths[j],'./data/validation/'+labels[j])\n",
    "        val_y.append(labels[j])\n",
    "\n",
    "pickle.dump([train_y, val_y], open('../preprocess.p','wb'))\n",
    "print('Data converted into train, test and validation')"
   ]
  },
  {
   "cell_type": "code",
   "execution_count": null,
   "metadata": {
    "collapsed": true
   },
   "outputs": [],
   "source": []
  }
 ],
 "metadata": {
  "kernelspec": {
   "display_name": "Python 3",
   "language": "python",
   "name": "python3"
  },
  "language_info": {
   "codemirror_mode": {
    "name": "ipython",
    "version": 3
   },
   "file_extension": ".py",
   "mimetype": "text/x-python",
   "name": "python",
   "nbconvert_exporter": "python",
   "pygments_lexer": "ipython3",
   "version": "3.6.1"
  }
 },
 "nbformat": 4,
 "nbformat_minor": 2
}
